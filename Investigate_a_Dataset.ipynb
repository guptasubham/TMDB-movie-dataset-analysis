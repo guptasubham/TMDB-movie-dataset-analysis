{
 "cells": [
  {
   "cell_type": "markdown",
   "metadata": {},
   "source": [
    "\n",
    "# THE MONEY MAKERS : \n",
    "### (Investigating the TMDb movie database to find the highest grossing movies and its characteristics)   \n",
    "\n",
    "\n",
    "## Table of Contents\n",
    "<ul>\n",
    "<li><a href=\"#intro\">Introduction</a></li>\n",
    "<li><a href=\"#wrangling\">Data Wrangling</a></li>\n",
    "<li><a href=\"#eda\">Exploratory Data Analysis</a></li>\n",
    "<li><a href=\"#conclusions\">Conclusions</a></li>\n",
    "</ul>"
   ]
  },
  {
   "cell_type": "markdown",
   "metadata": {},
   "source": [
    "<a id='intro'></a>\n",
    "## Introduction\n",
    "\n",
    ">This project uses the TMDb dataset for analysis to know the peculiar nature and mentality of the public in general and to know which movie genres are popular and also to find answers to questions like 'What can be said about the success of a movie before it is released'.  \n",
    "\n",
    "> Given that major films costing over $100 million to produce can still flop, this question is more important than ever to the industry.  This project also aims to find about which genres are popular? Does a particular production house has any secrect for highest revenews and does actually famous starred movies get the highest ratings on the board.   "
   ]
  },
  {
   "cell_type": "markdown",
   "metadata": {
    "collapsed": true
   },
   "source": [
    "#### The projects starts with importing the important libraries used for data-analysis using python.  \n"
   ]
  },
  {
   "cell_type": "code",
   "execution_count": null,
   "metadata": {},
   "outputs": [],
   "source": [
    "import numpy as np\n",
    "import pandas as pd\n",
    "import matplotlib.pyplot as plt\n",
    "import seaborn as sns\n",
    "\n",
    "csv_path=('tmdb-movies.csv')\n",
    "df=pd.read_csv(csv_path)\n",
    "df.head()"
   ]
  },
  {
   "cell_type": "markdown",
   "metadata": {},
   "source": [
    "## DATA WRANGLING\n",
    "> #### Gathering knowledge about the dataset"
   ]
  },
  {
   "cell_type": "code",
   "execution_count": null,
   "metadata": {},
   "outputs": [],
   "source": [
    "df.info()"
   ]
  },
  {
   "cell_type": "markdown",
   "metadata": {},
   "source": [
    "From the above it is clear that there are a total of 10866 entries, we can also see that there are a few null values in the cast,director and genres column, also it can be seen that there are a lot of null values in the column homepage,tagline,keywords and production_companies dropping these entries can cause data shrinkage and lead to wrong results.  Therefore I decided to drop the homepage and tagline column as it is not much required."
   ]
  },
  {
   "cell_type": "code",
   "execution_count": null,
   "metadata": {},
   "outputs": [],
   "source": [
    "df.describe()"
   ]
  },
  {
   "cell_type": "markdown",
   "metadata": {},
   "source": [
    "From the above table we can see that there has a lot of zero values in the budget,revenue as well as runtime columns. It should be noted that the release_year column indicates that all the listed movies have been released, so the question arises that can a movie of zero budget and zero runtime be released? These are surely missing values which needs to be fixed: "
   ]
  },
  {
   "cell_type": "code",
   "execution_count": null,
   "metadata": {},
   "outputs": [],
   "source": [
    "df_rev_zero=df.query('revenue==0')\n",
    "df_rev_zero['revenue'].value_counts()"
   ]
  },
  {
   "cell_type": "markdown",
   "metadata": {},
   "source": [
    "There are a total of 6016 entries with zero revenue if I drop them it could lead too much loss of raw data.So I decided to keep these and replace these zeros with null values."
   ]
  },
  {
   "cell_type": "code",
   "execution_count": null,
   "metadata": {},
   "outputs": [],
   "source": [
    "df_budget_zero=df.query('budget==0')\n",
    "df_budget_zero['budget'].value_counts()"
   ]
  },
  {
   "cell_type": "markdown",
   "metadata": {},
   "source": [
    "Here too 5696 values are zeros so i will keep them and replace them with null values."
   ]
  },
  {
   "cell_type": "code",
   "execution_count": null,
   "metadata": {},
   "outputs": [],
   "source": [
    "df_runtime_zero=df.query('runtime==0')\n",
    "df_runtime_zero['runtime'].value_counts()"
   ]
  },
  {
   "cell_type": "markdown",
   "metadata": {},
   "source": [
    "There are few data with zero runtime so we can drop them in the data-cleaning stage."
   ]
  },
  {
   "cell_type": "markdown",
   "metadata": {},
   "source": [
    "# Data Cleaning (Replace this with more specific notes!)\n",
    "\n",
    "In this step we will remove the unwanted data that could mis-lead our findings.We will be cleaning the data on the basis of information acquired from the data-wrangling process. \n",
    "    "
   ]
  },
  {
   "cell_type": "code",
   "execution_count": null,
   "metadata": {
    "scrolled": true
   },
   "outputs": [],
   "source": [
    "df.drop(['id','imdb_id','homepage','tagline','overview'],axis=1, inplace=True)\n",
    "df.head()"
   ]
  },
  {
   "cell_type": "markdown",
   "metadata": {},
   "source": [
    "Dropping unnecessary columnns that are of no use in the analysis process: id,homepage,tagline,overview."
   ]
  },
  {
   "cell_type": "code",
   "execution_count": null,
   "metadata": {},
   "outputs": [],
   "source": [
    "sum(df.duplicated())"
   ]
  },
  {
   "cell_type": "code",
   "execution_count": null,
   "metadata": {},
   "outputs": [],
   "source": [
    "df.drop_duplicates(inplace=True)"
   ]
  },
  {
   "cell_type": "markdown",
   "metadata": {},
   "source": [
    "It was found that there was a duplicate entry which needed to be deleted in the step"
   ]
  },
  {
   "cell_type": "code",
   "execution_count": null,
   "metadata": {},
   "outputs": [],
   "source": [
    "cal2 = ['cast', 'director', 'genres']\n",
    "df.dropna(subset = cal2, inplace=True)\n",
    "df.info()"
   ]
  },
  {
   "cell_type": "markdown",
   "metadata": {
    "scrolled": false
   },
   "source": [
    "Dropping the null values from the cast, director & genres columns."
   ]
  },
  {
   "cell_type": "code",
   "execution_count": null,
   "metadata": {},
   "outputs": [],
   "source": [
    "df.isnull().sum()"
   ]
  },
  {
   "cell_type": "markdown",
   "metadata": {},
   "source": [
    "To check if the null values have been dropped or not."
   ]
  },
  {
   "cell_type": "markdown",
   "metadata": {},
   "source": [
    "### Finally replacing the zero values with null in the budget and revenue column:"
   ]
  },
  {
   "cell_type": "code",
   "execution_count": null,
   "metadata": {},
   "outputs": [],
   "source": [
    "df['budget']=df['budget'].replace(0,np.NaN)\n",
    "df['revenue']=df['revenue'].replace(0,np.NaN)\n",
    "df.info()"
   ]
  },
  {
   "cell_type": "code",
   "execution_count": null,
   "metadata": {},
   "outputs": [],
   "source": [
    "df1=df.query('runtime == 0')\n",
    "df1['runtime'].value_counts()"
   ]
  },
  {
   "cell_type": "markdown",
   "metadata": {},
   "source": [
    "#### Finally dropping the columns with lesser values of zero values: Runtime"
   ]
  },
  {
   "cell_type": "code",
   "execution_count": null,
   "metadata": {},
   "outputs": [],
   "source": [
    "df =df[df['runtime'] !=0]\n",
    "df.info()\n",
    "df.shape"
   ]
  },
  {
   "cell_type": "markdown",
   "metadata": {},
   "source": [
    "### Data-cleaning summary:\n",
    "Finally after dropping the unnecessary columns, duplicate entries, also dropping the null values from the cast, director and genres columns and replacing the zero values from the budget,revenue and runtime columns we are left with 10703 rows and 16 columns which can now be used for analysis purpose."
   ]
  },
  {
   "cell_type": "markdown",
   "metadata": {},
   "source": [
    "<a id='eda'></a>\n",
    "# Exploratory Data Analysis\n",
    "\n",
    "> In this section we will be using the cleaned data to draw meaningful insights as to what could be said if a movie havng some particular characteristics will be successful or not also will the people like the movie or not.\n",
    "\n",
    "## Research Part 1: Finding the characteristics and properties related to successful movies\n",
    "> Question 1: What properties are related with movies with high popularity?  \n",
    "> Question 2: What properties are related with movies with high voting?"
   ]
  },
  {
   "cell_type": "code",
   "execution_count": null,
   "metadata": {},
   "outputs": [],
   "source": [
    "#quartile generating function:\n",
    "def cut_into_quantile(dfname ,column_name):\n",
    "# find quartile, max and min values\n",
    "    min_value = dfname[column_name].min()\n",
    "    first_quantile = dfname[column_name].describe()[4]\n",
    "    second_quantile = dfname[column_name].describe()[5]\n",
    "    third_quantile = dfname[column_name].describe()[6]\n",
    "    max_value = dfname[column_name].max()\n",
    "# Bin edges that will be used to \"cut\" the data into groups\n",
    "    bin_edges = [ min_value, first_quantile, second_quantile, third_quantile, max_value]\n",
    "# Labels for the four budget level groups\n",
    "    bin_names = [ 'Low', 'Medium', 'Moderately High', 'High'] \n",
    "# Creates budget_levels column\n",
    "    name = '{}_levels'.format(column_name)\n",
    "    dfname[name] = pd.cut(dfname[column_name], bin_edges, labels=bin_names, include_lowest = True)\n",
    "    return dfname"
   ]
  },
  {
   "cell_type": "code",
   "execution_count": null,
   "metadata": {},
   "outputs": [],
   "source": [
    "#splitting the pipe characters:\n",
    "def find_top(dataframe_col, num=3):\n",
    "    # split the characters in the input column \n",
    "    #and make it to a list\n",
    "    alist = dataframe_col.str.cat(sep='|').split('|')\n",
    "    #transfer it to a dataframe\n",
    "    new = pd.DataFrame({'top' :alist})\n",
    "    #count their number of appeared times and\n",
    "    #choose the top3\n",
    "    top = new['top'].value_counts().head(num)\n",
    "    return top"
   ]
  },
  {
   "cell_type": "code",
   "execution_count": null,
   "metadata": {},
   "outputs": [],
   "source": [
    "# Selecting Top 100 popular movies.\n",
    "df_top_p = df.sort_values(['release_year','popularity'], ascending=[True, False])\n",
    "#group by year and choose the top 100 high\n",
    "df_top_p = df_top_p.groupby('release_year').head(100).reset_index(drop=True)\n",
    "df_top_p.tail(5)"
   ]
  },
  {
   "cell_type": "code",
   "execution_count": null,
   "metadata": {},
   "outputs": [],
   "source": [
    "# Select Top 100 high revenue movies.\n",
    "df_top_r = df.sort_values(['release_year','revenue'], ascending=[True, False])\n",
    "df_top_r = df_top_r.groupby('release_year').head(100).reset_index(drop=True)\n",
    "df_top_r.head(5)"
   ]
  },
  {
   "cell_type": "code",
   "execution_count": null,
   "metadata": {},
   "outputs": [],
   "source": [
    "# Select Top 100 high score rating movies.\n",
    "df_top_s = df.sort_values(['release_year','vote_average'], ascending=[True, False])\n",
    "df_top_s = df_top_s.groupby('release_year').head(100).reset_index(drop=True)\n",
    "df_top_s.head(5)"
   ]
  },
  {
   "cell_type": "markdown",
   "metadata": {},
   "source": [
    "## Question1: What properties are related with movies with high popularity?  \n",
    "> 1.1 What is the budget level associated with movies having high popularity"
   ]
  },
  {
   "cell_type": "code",
   "execution_count": null,
   "metadata": {},
   "outputs": [],
   "source": [
    "df = cut_into_quantile(df,'budget')\n",
    "df.tail(10)"
   ]
  },
  {
   "cell_type": "code",
   "execution_count": null,
   "metadata": {},
   "outputs": [],
   "source": [
    "result_mean = df.groupby('budget_levels')['popularity'].mean()\n",
    "result_mean"
   ]
  },
  {
   "cell_type": "code",
   "execution_count": null,
   "metadata": {},
   "outputs": [],
   "source": [
    "result_median = df.groupby('budget_levels')['popularity'].median()\n",
    "result_median"
   ]
  },
  {
   "cell_type": "code",
   "execution_count": null,
   "metadata": {},
   "outputs": [],
   "source": [
    "# the x locations for the groups\n",
    "ind = np.arange(len(result_mean))  \n",
    "# the width of the bars\n",
    "width = 0.5  "
   ]
  },
  {
   "cell_type": "code",
   "execution_count": null,
   "metadata": {},
   "outputs": [],
   "source": [
    "# plotting a bar graph:\n",
    "sns.set_style('darkgrid')\n",
    "bars = plt.bar(ind, result_mean, width, color='g', alpha=.7, label='mean')\n",
    "\n",
    "# title and labels\n",
    "plt.ylabel('popularity')\n",
    "plt.xlabel('budget levels')\n",
    "plt.title('Popularity with Budget Levels')\n",
    "locations = ind\n",
    "labels = result_median.index  \n",
    "plt.xticks(locations, labels)\n",
    "# legend\n",
    "plt.legend();"
   ]
  },
  {
   "cell_type": "markdown",
   "metadata": {},
   "source": [
    "### From the above graph it is clear that movies with higher popularity are with higher budget.\n",
    "It is notable since movies with higher popularity may have a higher promoting & advertising cost. And with the high promotion level people always have more probability to get know these movies.Also it can be said that popular movies would be having popular casts which intern draws their fans to view the movie."
   ]
  },
  {
   "cell_type": "markdown",
   "metadata": {},
   "source": [
    "## 1.2 How is the runtime status associated with movies having high popularity"
   ]
  },
  {
   "cell_type": "code",
   "execution_count": null,
   "metadata": {},
   "outputs": [],
   "source": [
    "df = cut_into_quantile(df,'runtime')\n",
    "df.head(5)"
   ]
  },
  {
   "cell_type": "code",
   "execution_count": null,
   "metadata": {},
   "outputs": [],
   "source": [
    "result_mean = df.groupby('runtime_levels')['popularity'].mean()\n",
    "result_mean"
   ]
  },
  {
   "cell_type": "code",
   "execution_count": null,
   "metadata": {},
   "outputs": [],
   "source": [
    "result_median = df.groupby('runtime_levels')['popularity'].median()\n",
    "result_median"
   ]
  },
  {
   "cell_type": "code",
   "execution_count": null,
   "metadata": {},
   "outputs": [],
   "source": [
    "ind = np.arange(len(result_median))  # the x locations for the groups\n",
    "width = 0.5  "
   ]
  },
  {
   "cell_type": "code",
   "execution_count": null,
   "metadata": {},
   "outputs": [],
   "source": [
    "# plotting bars\n",
    "bars = plt.bar(ind, result_median, width, color='#1ea2bc', alpha=.7, label='median')\n",
    "\n",
    "# title and labels\n",
    "plt.ylabel('popularity')\n",
    "plt.xlabel('runtime levels')\n",
    "plt.title('Popularity with Runtime Levels')\n",
    "locations = ind\n",
    "labels = result_median.index  \n",
    "plt.xticks(locations, labels)\n",
    "# legend\n",
    "plt.legend();"
   ]
  },
  {
   "cell_type": "markdown",
   "metadata": {},
   "source": [
    "### From above graph it can be conluded that the popular movies have longer runtime."
   ]
  },
  {
   "cell_type": "markdown",
   "metadata": {},
   "source": [
    "## 1.3 Which casts, directors, keywords, genres and production companies are associated with high popularity movies:"
   ]
  },
  {
   "cell_type": "code",
   "execution_count": null,
   "metadata": {},
   "outputs": [],
   "source": [
    "df_top_p.tail(5)    #choosing the df_top_p dataset, it is a dataframe for 100 popular movies of each year"
   ]
  },
  {
   "cell_type": "code",
   "execution_count": null,
   "metadata": {},
   "outputs": [],
   "source": [
    "# find top three cast\n",
    "a = find_top(df_top_p.cast)\n",
    "# find top three director\n",
    "b = find_top(df_top_p.director)\n",
    "# find top three keywords\n",
    "c = find_top(df_top_p.keywords)\n",
    "# find top three genres\n",
    "d = find_top(df_top_p.genres)\n",
    "# find top three production companies\n",
    "e = find_top(df_top_p.production_companies)"
   ]
  },
  {
   "cell_type": "code",
   "execution_count": null,
   "metadata": {
    "scrolled": true
   },
   "outputs": [],
   "source": [
    "#Use the result above to create a summary dataframe.\n",
    "df_popular = pd.DataFrame({'popular_cast': a.index, 'popular_director': b.index, 'popular_keywords': c.index, 'popular_genres': d.index, 'popular_producer': e.index})\n",
    "df_popular"
   ]
  },
  {
   "cell_type": "markdown",
   "metadata": {},
   "source": [
    "#### From the above it is notable that Robert De Niro has appeared in the most popular movie also the most popular movies are of the genres:(Drama,Comedy & Thriller). The most sought after keywords from the most popular movies are: Based on Novel, Sex & Dystopia. It is found that Warner Bros, Universal pictures & Paramount pictures have been associated with the most popular movies and also have built a huge name in the industry."
   ]
  },
  {
   "cell_type": "markdown",
   "metadata": {},
   "source": [
    "## Question 2: What kinds of properties are associated with movies that have high voting score?\n",
    "\n",
    "### What is the budget level associated with the highest voted movie:"
   ]
  },
  {
   "cell_type": "code",
   "execution_count": null,
   "metadata": {},
   "outputs": [],
   "source": [
    "# Find the mean and median voting score of each level with groupby\n",
    "result_mean = df.groupby('budget_levels')['vote_average'].mean()\n",
    "result_mean"
   ]
  },
  {
   "cell_type": "code",
   "execution_count": null,
   "metadata": {},
   "outputs": [],
   "source": [
    "result_median = df.groupby('budget_levels')['vote_average'].median()\n",
    "result_median"
   ]
  },
  {
   "cell_type": "code",
   "execution_count": null,
   "metadata": {},
   "outputs": [],
   "source": [
    "# plot bars\n",
    "sns.set_style('darkgrid')\n",
    "ind = np.arange(len(result_mean))  # the x locations for the groups\n",
    "width = 0.5       # the width of the bars\n",
    "\n",
    "# plot bars\n",
    "plt.subplots(figsize=(8, 6))\n",
    "bars = plt.bar(ind, result_median, width, color='y', alpha=.7, label='mean')\n",
    "\n",
    "# title and labels\n",
    "plt.ylabel('rating')\n",
    "plt.xlabel('budget levels')\n",
    "plt.title('Rating with Budget Levels')\n",
    "locations = ind  # xtick locations，345...\n",
    "labels = result_median.index  \n",
    "plt.xticks(locations, labels)\n",
    "# legend\n",
    "plt.legend( loc='upper left');"
   ]
  },
  {
   "cell_type": "markdown",
   "metadata": {},
   "source": [
    "We can see that there is no big difference in average voting score at different budget levels. So from the result, maybe high budget of a movie is not necessary to a good quality of movie!"
   ]
  },
  {
   "cell_type": "markdown",
   "metadata": {},
   "source": [
    "### How is the runtime status is associated with the highest voted movie:"
   ]
  },
  {
   "cell_type": "code",
   "execution_count": null,
   "metadata": {},
   "outputs": [],
   "source": [
    "# Find the mean popularity of each level with groupby\n",
    "result_mean = df.groupby('runtime_levels')['vote_average'].mean()\n",
    "result_mean"
   ]
  },
  {
   "cell_type": "code",
   "execution_count": null,
   "metadata": {},
   "outputs": [],
   "source": [
    "result_median = df.groupby('runtime_levels')['vote_average'].median()\n",
    "result_median"
   ]
  },
  {
   "cell_type": "code",
   "execution_count": null,
   "metadata": {},
   "outputs": [],
   "source": [
    "sns.set_style('darkgrid')\n",
    "ind = np.arange(len(result_mean))  # the x locations for the groups\n",
    "width = 0.5       # the width of the bars\n",
    "\n",
    "# plot bars\n",
    "bars = plt.bar(ind, result_median, width, color='g', alpha=.7, label='mean')\n",
    "\n",
    "# title and labels\n",
    "plt.ylabel('rating')\n",
    "plt.xlabel('runtime levels')\n",
    "plt.title('Rating with Runtime Levels')\n",
    "locations = ind  # xtick locations，345...\n",
    "labels = result_median.index  \n",
    "plt.xticks(locations, labels)\n",
    "# legend\n",
    "plt.legend();"
   ]
  },
  {
   "cell_type": "markdown",
   "metadata": {},
   "source": [
    "It can be seen that the runtime of a movie does not has any significance effect of the voting of the movie.It seems that long runtime is not necessary for a movie to be good or bad."
   ]
  },
  {
   "cell_type": "code",
   "execution_count": null,
   "metadata": {},
   "outputs": [],
   "source": []
  },
  {
   "cell_type": "markdown",
   "metadata": {},
   "source": [
    "# Research Question 2 : Top Keywords and Genres Trends by Generation"
   ]
  },
  {
   "cell_type": "markdown",
   "metadata": {
    "collapsed": true
   },
   "source": [
    ">Question 1: Number of movie released year by year  \n",
    "Question 2: Keywords Trends by Generation  \n",
    "Question 3: Genres Trends by Generation"
   ]
  },
  {
   "cell_type": "markdown",
   "metadata": {},
   "source": [
    "### Question 1: Number of movie released year by year"
   ]
  },
  {
   "cell_type": "code",
   "execution_count": null,
   "metadata": {},
   "outputs": [],
   "source": [
    "movie_count = df.groupby('release_year').count()['original_title']\n",
    "movie_count.tail(10)"
   ]
  },
  {
   "cell_type": "code",
   "execution_count": null,
   "metadata": {},
   "outputs": [],
   "source": [
    "#set style\n",
    "sns.set_style('darkgrid')\n",
    "#set x, y axis data\n",
    "# x is movie release year\n",
    "x = movie_count.index\n",
    "# y is number of movie released\n",
    "y = movie_count\n",
    "#set size\n",
    "plt.figure(figsize=(10, 5))\n",
    "#plot line chart \n",
    "plt.plot(x, y, color = 'g', label = 'mean')\n",
    "#set title and labels\n",
    "plt.title('Number of Movie Released year by year')\n",
    "plt.xlabel('Year')\n",
    "plt.ylabel('Number of Movie Released');"
   ]
  },
  {
   "cell_type": "markdown",
   "metadata": {},
   "source": [
    "From the above graph it can be seen that the number of movies released through generations have increased exponentially and thus making the entertainment industry soo huge nowadays.\n",
    ">  It is seen that in the 1960s the total movies released each year is below 50, which in 1970s increased to be lesser than 100. In the 1980s the number of movie releases increased from below 100 to below 200 and that though because of the enternainment industry in this generation produced movies on nudity and sex.  In the 1990s the movie industry saw many independent directors which in tern resulted in more movies. From 2000s the entertainment industry boomed and skyrocketed from 200 movies per year to 680 movies.This came with the discovries of new age lens and camera.This boom was also supported by the tech industry which included (3D,VR,etc)."
   ]
  },
  {
   "cell_type": "markdown",
   "metadata": {},
   "source": [
    "### Question 2: Keywords Trends by Generation"
   ]
  },
  {
   "cell_type": "code",
   "execution_count": null,
   "metadata": {},
   "outputs": [],
   "source": [
    "# sorting the movie release year list.\n",
    "dfyear= df.release_year.unique()\n",
    "dfyear= np.sort(dfyear)\n",
    "dfyear"
   ]
  },
  {
   "cell_type": "code",
   "execution_count": null,
   "metadata": {},
   "outputs": [],
   "source": [
    "# year list of 1960s\n",
    "y1960s =dfyear[:10]\n",
    "# year list of 1970s\n",
    "y1970s =dfyear[10:20]\n",
    "# year list of 1980s\n",
    "y1980s =dfyear[20:30]\n",
    "# year list of 1990s\n",
    "y1990s = dfyear[30:40]\n",
    "# year list of afer 2000\n",
    "y2000 = dfyear[40:]"
   ]
  },
  {
   "cell_type": "code",
   "execution_count": null,
   "metadata": {},
   "outputs": [],
   "source": [
    "# year list of each generation\n",
    "times = [y1960s, y1970s, y1980s, y1990s, y2000]\n",
    "#generation name\n",
    "names = ['1960s', '1970s', '1980s', '1990s', 'after2000']\n",
    "#creat a empty dataframe,df_r3\n",
    "df_r3 = pd.DataFrame()\n",
    "index = 0\n",
    "#for each generation, do the following procedure\n",
    "for s in times:\n",
    "    # first filter dataframe with the selected generation, and store it to dfn\n",
    "    dfn = df[df.release_year.isin(s)] \n",
    "    #apply the find_top function with the selected frame, using the result create a dataframe, store it to dfn2 \n",
    "    dfn2 = pd.DataFrame({'year' :names[index],'top': find_top(dfn.keywords,1)})\n",
    "     #append dfn2 to df_q2\n",
    "    df_r3 = df_r3.append(dfn2)\n",
    "    index +=1\n",
    "df_r3"
   ]
  },
  {
   "cell_type": "code",
   "execution_count": null,
   "metadata": {},
   "outputs": [],
   "source": []
  },
  {
   "cell_type": "markdown",
   "metadata": {},
   "source": [
    "<a id='conclusions'></a>\n",
    "# Conclusions\n",
    "### Part one: Finding the Properties related with Successful Movies.\n",
    "In this part, I first found out the properties that are associated with high popularity movies.  They were with high budget levels and longer run time.  The cast associated with high popularity movies are Robert De Niro and Bruce Willis;  director associated with high popularity movies are Steven Spielberg;  genres associated with high popularity movies are drama, comedy, and thriller;  keywords associated with high popularity movies are based on novel and dystopia;  producer associated with high popularity movies are Warner Bros., Universal Pictures and Paramount Pictures.\n",
    "\n",
    "### Part two: Finding top keywords and genres associated with popular movies by generation.\n",
    "\n",
    "In this part it was concluded that the number of movies released over the time has grown exponentially over the time-period that was divided into five generations: 1960s, 1970s, 1980s, 1990s and 2000s.\n",
    "Again we found out the top keyword that was prominent in those generations:   \n",
    "    1960s - Based on Novel  \n",
    "    1970s - Based on Novel  \n",
    "    1980s - Nuidity  \n",
    "    1990s - Independent films  \n",
    "    2000s - Woman directors  \n"
   ]
  },
  {
   "cell_type": "markdown",
   "metadata": {},
   "source": [
    "## Limitations:\n",
    "In this particular project \"Analysing TmDB dataset\",there were some formatting done to the dataset to make it more precise whereas keeping its integrity as it is.\n",
    "<br>1.There were some columns that wasn't useful so it was dropped off- 'Id', 'Homepage' and 'Tagline'.\n",
    "<br>2.There were many zero values in the budget, revenue and runtime columns, when searched for some of the movies from this list it was found that they actually had budget ,revenue and definitely had runtimes.So it was missing values that were present there.As the total number of zero values was too many dropping them could have lead us to wrong decisions and it was replaced with numpy NaN values, so that other variables of that data could be used.\n",
    "<br>3.The runtime column had quite a few zero values and so it was dropped from the dataset.\n",
    "<br>4.There were also few null values in the cast,directors and genres column which was also dropped so that it could not affect the observations.\n",
    "<br>5.There was also one duplicate items which intern was dropped.\n",
    "<br>without doing the above steps it could have been possible that we arrive to some other observations but that wasn't for sure would have been the correct observations."
   ]
  },
  {
   "cell_type": "code",
   "execution_count": null,
   "metadata": {},
   "outputs": [],
   "source": [
    "from subprocess import call\n",
    "call(['python', '-m', 'nbconvert', 'Investigate_a_Dataset.ipynb'])"
   ]
  },
  {
   "cell_type": "code",
   "execution_count": null,
   "metadata": {},
   "outputs": [],
   "source": []
  },
  {
   "cell_type": "code",
   "execution_count": null,
   "metadata": {},
   "outputs": [],
   "source": []
  }
 ],
 "metadata": {
  "kernelspec": {
   "display_name": "Python 3",
   "language": "python",
   "name": "python3"
  },
  "language_info": {
   "codemirror_mode": {
    "name": "ipython",
    "version": 3
   },
   "file_extension": ".py",
   "mimetype": "text/x-python",
   "name": "python",
   "nbconvert_exporter": "python",
   "pygments_lexer": "ipython3",
   "version": "3.6.3"
  }
 },
 "nbformat": 4,
 "nbformat_minor": 2
}
